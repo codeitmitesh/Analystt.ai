{
 "cells": [
  {
   "cell_type": "code",
   "execution_count": 113,
   "id": "c6b37b2d",
   "metadata": {},
   "outputs": [],
   "source": [
    "import requests\n",
    "from bs4 import BeautifulSoup\n",
    "import pandas as pd\n",
    "\n",
    "\n",
    "#defining the base url\n",
    "base_url = \"https://www.amazon.in/s?k=bags&crid=2M096C61O4MLT&qid=1653308124&sprefix=ba%2Caps%2C283&ref=sr_pg_\"\n",
    "pages = 50\n",
    "\n",
    "#empty list to add data\n",
    "data=[]\n",
    "\n",
    "# looping each page\n",
    "for page_num in range(1, pages + 1):\n",
    "    \n",
    "    # constructing the url for each page\n",
    "    url = base_url + str(page_num)\n",
    "\n",
    "    # sending get request \n",
    "    response = requests.get(url)\n",
    "\n",
    "    # parsing the HTML content of the response\n",
    "    soup = BeautifulSoup(response.content, \"html.parser\")\n",
    "\n",
    "    # Find all product listings on the page\n",
    "    product_listings = soup.find_all(\"div\", class_=\"sg-col-20-of-24 s-result-item s-asin sg-col-0-of-12 sg-col-16-of-20 sg-col s-widget-spacing-small sg-col-12-of-16\")\n",
    "\n",
    "    # Loop through each product listing\n",
    "    for product in product_listings:\n",
    "        #product URL\n",
    "        product_url = product.find(\"a\", class_=\"a-link-normal\")[\"href\"]\n",
    "\n",
    "        #product name\n",
    "        product_name = product.find(\"span\", class_=\"a-size-medium a-color-base a-text-normal\").text\n",
    "\n",
    "        #product price\n",
    "        product_price = product.find(\"span\", class_=\"a-offscreen\").text\n",
    "\n",
    "        #product rating\n",
    "        product_rating = product.find(\"span\", class_=\"a-icon-alt\").text.split(\" \")[0]\n",
    "\n",
    "        #number of reviews\n",
    "        num_reviews = product.find(\"span\", class_=\"a-size-base s-underline-text\").text.split(\" \")[0]\n",
    "        \n",
    "        \n",
    "        # added the extracted data for the current product to the list\n",
    "        data.append([product_url, product_name, product_price, product_rating, num_reviews])\n",
    "\n",
    "df = pd.DataFrame(data, columns=[\"Product URL\", \"Product Name\", \"Product Price\", \"Rating\", \"Review Count\"])\n",
    "\n",
    "#save data to csv file\n",
    "df.to_csv(\"amazon_products.csv\")"
   ]
  },
  {
   "cell_type": "code",
   "execution_count": null,
   "id": "592e7c15",
   "metadata": {},
   "outputs": [],
   "source": []
  }
 ],
 "metadata": {
  "kernelspec": {
   "display_name": "Python 3 (ipykernel)",
   "language": "python",
   "name": "python3"
  },
  "language_info": {
   "codemirror_mode": {
    "name": "ipython",
    "version": 3
   },
   "file_extension": ".py",
   "mimetype": "text/x-python",
   "name": "python",
   "nbconvert_exporter": "python",
   "pygments_lexer": "ipython3",
   "version": "3.9.12"
  }
 },
 "nbformat": 4,
 "nbformat_minor": 5
}
